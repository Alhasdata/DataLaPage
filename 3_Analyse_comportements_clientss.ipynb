{
 "cells": [
  {
   "cell_type": "markdown",
   "id": "b1d5faad-358c-4e21-8544-31dab88e4540",
   "metadata": {
    "tags": []
   },
   "source": [
    "<div style=\"display: flex;\n",
    "            justify-content: flex-start;\">\n",
    "\n",
    "<img\n",
    "     src=\"Icone_lapage.png\"\n",
    "     alt=\"logo_lapage\"\n",
    "     WIDTH= 250px\n",
    "     padding= 7px>\n",
    "\n",
    "<h1  style=\"margin: auto; \n",
    "            text-align: center; \n",
    "            font-family:Helvetica, Arial, verdana, sans-serif\"> Analyse des comportements clients </h1>   \n",
    "</div>"
   ]
  },
  {
   "cell_type": "markdown",
   "id": "ca64de68",
   "metadata": {},
   "source": [
    "<h2  style= \"background-color: #d4bdcf;\n",
    "                 color: white;\n",
    "            text-align: center; \n",
    "            font-family:Helvetica, Arial, verdana, sans-serif\"> Étude réalisée par Alhassane AHMED</h2>"
   ]
  },
  {
   "cell_type": "markdown",
   "id": "ff917f64-d377-49d4-a1fe-05f26e8d96bd",
   "metadata": {},
   "source": [
    "\n",
    "<nav><ul style=\"display: flex;\n",
    "    justify-content: space-between;\n",
    "    background-color: #945f8a;\n",
    "    font-family:Helvetica, Arial, verdana, sans-serif;\n",
    "    font-size:11pt\">\n",
    "    \n",
    "<li style=\"margin: auto;color: RGB(255,255,255);\"> <a style=\"color: RGB(255,255,255)\"; href=\"#C1\"><strong>Contexte</strong> </a> </li>\n",
    "<li style=\"margin: auto;color: RGB(255,255,255);\"> <a style=\"color: RGB(255,255,255)\"; href=\"#C2\"><strong>Genre x Catégorie</strong></a> </li>\n",
    "<li style=\"margin: auto;color: RGB(255,255,255);\"> <a style=\"color: RGB(255,255,255)\"; href=\"#C3\"><strong>Age vs Fréquence achat</strong></a> </li>\n",
    "<li style=\"margin: auto;color: RGB(255,255,255);\"> <a style=\"color: RGB(255,255,255)\"; href=\"#C4\"><strong>Age vs Montant des achats</strong></a> </li>\n",
    "<li style=\"margin: auto;color: RGB(255,255,255);\"> <a style=\"color: RGB(255,255,255)\"; href=\"#C5\"><strong>Age vs Panier moyen <strong></a> </li>\n",
    "<li style=\"margin: auto;color: RGB(255,255,255);\"> <a style=\"color: RGB(255,255,255)\"; href=\"#C6\"><strong>Age vs Catégorie des livres</strong></a></li>\n",
    "\n",
    "</ul></nav>\n",
    "\n"
   ]
  },
  {
   "cell_type": "markdown",
   "id": "b04bda03",
   "metadata": {},
   "source": [
    "<h2 style=\"margin: auto; \n",
    "            text-align: center; \n",
    "            font-family:Helvetica, Arial, verdana, sans-serif\"><a name=\"C1\"> Contexte </a></h2>"
   ]
  },
  {
   "cell_type": "markdown",
   "id": "8dc6c93d",
   "metadata": {},
   "source": [
    "Dans cette dernière partie, nous allons étudier les comportements des clients en ligne à travers des analyses bivariées.\n",
    "\n",
    "Plan d'action :\n",
    "1. Analyse des comportements clients en fonction de leur sexe\n",
    "2. Analyse des comportements clients en fonction de leur age"
   ]
  },
  {
   "cell_type": "code",
   "execution_count": 1,
   "id": "3a58a0fb",
   "metadata": {},
   "outputs": [],
   "source": [
    "import math\n",
    "import scipy.stats as st\n",
    "import statsmodels.api as sm\n",
    "\n",
    "import pandas as pd\n",
    "import matplotlib.pyplot as plt\n",
    "import seaborn as sns\n",
    "import numpy as np\n",
    "\n",
    "from datetime import datetime\n",
    "from IPython.display import display\n",
    "import warnings\n",
    "warnings.filterwarnings('ignore')"
   ]
  },
  {
   "cell_type": "code",
   "execution_count": 2,
   "id": "fc09acb1-ff26-4134-8911-475da0d1216c",
   "metadata": {
    "scrolled": true
   },
   "outputs": [
    {
     "data": {
      "text/html": [
       "<div>\n",
       "<style scoped>\n",
       "    .dataframe tbody tr th:only-of-type {\n",
       "        vertical-align: middle;\n",
       "    }\n",
       "\n",
       "    .dataframe tbody tr th {\n",
       "        vertical-align: top;\n",
       "    }\n",
       "\n",
       "    .dataframe thead th {\n",
       "        text-align: right;\n",
       "    }\n",
       "</style>\n",
       "<table border=\"1\" class=\"dataframe\">\n",
       "  <thead>\n",
       "    <tr style=\"text-align: right;\">\n",
       "      <th></th>\n",
       "      <th>id_prod</th>\n",
       "      <th>date</th>\n",
       "      <th>session_id</th>\n",
       "      <th>client_id</th>\n",
       "      <th>time</th>\n",
       "      <th>periode</th>\n",
       "      <th>annee</th>\n",
       "      <th>sex</th>\n",
       "      <th>birth</th>\n",
       "      <th>age_client</th>\n",
       "      <th>tranche_age</th>\n",
       "      <th>price</th>\n",
       "      <th>categ</th>\n",
       "      <th>Type_client</th>\n",
       "    </tr>\n",
       "  </thead>\n",
       "  <tbody>\n",
       "    <tr>\n",
       "      <th>0</th>\n",
       "      <td>0_1518</td>\n",
       "      <td>2022-05-20</td>\n",
       "      <td>s_211425</td>\n",
       "      <td>c_103</td>\n",
       "      <td>13:21:29.043970</td>\n",
       "      <td>2022-05</td>\n",
       "      <td>2022</td>\n",
       "      <td>f</td>\n",
       "      <td>1986</td>\n",
       "      <td>36</td>\n",
       "      <td>36 - 45 ans</td>\n",
       "      <td>4.18</td>\n",
       "      <td>0</td>\n",
       "      <td>particulier</td>\n",
       "    </tr>\n",
       "    <tr>\n",
       "      <th>1</th>\n",
       "      <td>1_251</td>\n",
       "      <td>2022-02-02</td>\n",
       "      <td>s_158752</td>\n",
       "      <td>c_8534</td>\n",
       "      <td>07:55:19.149409</td>\n",
       "      <td>2022-02</td>\n",
       "      <td>2022</td>\n",
       "      <td>m</td>\n",
       "      <td>1988</td>\n",
       "      <td>34</td>\n",
       "      <td>26 - 35 ans</td>\n",
       "      <td>15.99</td>\n",
       "      <td>1</td>\n",
       "      <td>particulier</td>\n",
       "    </tr>\n",
       "    <tr>\n",
       "      <th>2</th>\n",
       "      <td>0_1277</td>\n",
       "      <td>2022-06-18</td>\n",
       "      <td>s_225667</td>\n",
       "      <td>c_6714</td>\n",
       "      <td>15:44:33.155329</td>\n",
       "      <td>2022-06</td>\n",
       "      <td>2022</td>\n",
       "      <td>f</td>\n",
       "      <td>1968</td>\n",
       "      <td>54</td>\n",
       "      <td>46 - 55 ans</td>\n",
       "      <td>7.99</td>\n",
       "      <td>0</td>\n",
       "      <td>professionnel</td>\n",
       "    </tr>\n",
       "    <tr>\n",
       "      <th>3</th>\n",
       "      <td>2_209</td>\n",
       "      <td>2021-06-24</td>\n",
       "      <td>s_52962</td>\n",
       "      <td>c_6941</td>\n",
       "      <td>04:19:29.835891</td>\n",
       "      <td>2021-06</td>\n",
       "      <td>2021</td>\n",
       "      <td>m</td>\n",
       "      <td>2000</td>\n",
       "      <td>22</td>\n",
       "      <td>16 - 25 ans</td>\n",
       "      <td>69.99</td>\n",
       "      <td>2</td>\n",
       "      <td>particulier</td>\n",
       "    </tr>\n",
       "    <tr>\n",
       "      <th>4</th>\n",
       "      <td>0_1509</td>\n",
       "      <td>2023-01-11</td>\n",
       "      <td>s_325227</td>\n",
       "      <td>c_4232</td>\n",
       "      <td>08:22:08.194479</td>\n",
       "      <td>2023-01</td>\n",
       "      <td>2023</td>\n",
       "      <td>m</td>\n",
       "      <td>1980</td>\n",
       "      <td>42</td>\n",
       "      <td>36 - 45 ans</td>\n",
       "      <td>4.99</td>\n",
       "      <td>0</td>\n",
       "      <td>particulier</td>\n",
       "    </tr>\n",
       "    <tr>\n",
       "      <th>...</th>\n",
       "      <td>...</td>\n",
       "      <td>...</td>\n",
       "      <td>...</td>\n",
       "      <td>...</td>\n",
       "      <td>...</td>\n",
       "      <td>...</td>\n",
       "      <td>...</td>\n",
       "      <td>...</td>\n",
       "      <td>...</td>\n",
       "      <td>...</td>\n",
       "      <td>...</td>\n",
       "      <td>...</td>\n",
       "      <td>...</td>\n",
       "      <td>...</td>\n",
       "    </tr>\n",
       "    <tr>\n",
       "      <th>679327</th>\n",
       "      <td>0_1551</td>\n",
       "      <td>2022-01-15</td>\n",
       "      <td>s_150195</td>\n",
       "      <td>c_8489</td>\n",
       "      <td>13:05:06.246925</td>\n",
       "      <td>2022-01</td>\n",
       "      <td>2022</td>\n",
       "      <td>f</td>\n",
       "      <td>1951</td>\n",
       "      <td>71</td>\n",
       "      <td>66 - 75 ans</td>\n",
       "      <td>12.99</td>\n",
       "      <td>0</td>\n",
       "      <td>particulier</td>\n",
       "    </tr>\n",
       "    <tr>\n",
       "      <th>679328</th>\n",
       "      <td>1_639</td>\n",
       "      <td>2022-03-19</td>\n",
       "      <td>s_181434</td>\n",
       "      <td>c_4370</td>\n",
       "      <td>16:03:23.429229</td>\n",
       "      <td>2022-03</td>\n",
       "      <td>2022</td>\n",
       "      <td>f</td>\n",
       "      <td>1977</td>\n",
       "      <td>45</td>\n",
       "      <td>36 - 45 ans</td>\n",
       "      <td>10.99</td>\n",
       "      <td>1</td>\n",
       "      <td>particulier</td>\n",
       "    </tr>\n",
       "    <tr>\n",
       "      <th>679329</th>\n",
       "      <td>0_1425</td>\n",
       "      <td>2022-12-20</td>\n",
       "      <td>s_314704</td>\n",
       "      <td>c_304</td>\n",
       "      <td>04:33:37.584749</td>\n",
       "      <td>2022-12</td>\n",
       "      <td>2022</td>\n",
       "      <td>f</td>\n",
       "      <td>1988</td>\n",
       "      <td>34</td>\n",
       "      <td>26 - 35 ans</td>\n",
       "      <td>12.99</td>\n",
       "      <td>0</td>\n",
       "      <td>particulier</td>\n",
       "    </tr>\n",
       "    <tr>\n",
       "      <th>679330</th>\n",
       "      <td>0_1994</td>\n",
       "      <td>2021-07-16</td>\n",
       "      <td>s_63204</td>\n",
       "      <td>c_2227</td>\n",
       "      <td>20:36:35.350579</td>\n",
       "      <td>2021-07</td>\n",
       "      <td>2021</td>\n",
       "      <td>m</td>\n",
       "      <td>1986</td>\n",
       "      <td>36</td>\n",
       "      <td>36 - 45 ans</td>\n",
       "      <td>4.98</td>\n",
       "      <td>0</td>\n",
       "      <td>particulier</td>\n",
       "    </tr>\n",
       "    <tr>\n",
       "      <th>679331</th>\n",
       "      <td>1_523</td>\n",
       "      <td>2022-09-28</td>\n",
       "      <td>s_274568</td>\n",
       "      <td>c_3873</td>\n",
       "      <td>01:12:01.973763</td>\n",
       "      <td>2022-09</td>\n",
       "      <td>2022</td>\n",
       "      <td>m</td>\n",
       "      <td>1995</td>\n",
       "      <td>27</td>\n",
       "      <td>26 - 35 ans</td>\n",
       "      <td>23.99</td>\n",
       "      <td>1</td>\n",
       "      <td>particulier</td>\n",
       "    </tr>\n",
       "  </tbody>\n",
       "</table>\n",
       "<p>679332 rows × 14 columns</p>\n",
       "</div>"
      ],
      "text/plain": [
       "       id_prod        date session_id client_id             time  periode  \\\n",
       "0       0_1518  2022-05-20   s_211425     c_103  13:21:29.043970  2022-05   \n",
       "1        1_251  2022-02-02   s_158752    c_8534  07:55:19.149409  2022-02   \n",
       "2       0_1277  2022-06-18   s_225667    c_6714  15:44:33.155329  2022-06   \n",
       "3        2_209  2021-06-24    s_52962    c_6941  04:19:29.835891  2021-06   \n",
       "4       0_1509  2023-01-11   s_325227    c_4232  08:22:08.194479  2023-01   \n",
       "...        ...         ...        ...       ...              ...      ...   \n",
       "679327  0_1551  2022-01-15   s_150195    c_8489  13:05:06.246925  2022-01   \n",
       "679328   1_639  2022-03-19   s_181434    c_4370  16:03:23.429229  2022-03   \n",
       "679329  0_1425  2022-12-20   s_314704     c_304  04:33:37.584749  2022-12   \n",
       "679330  0_1994  2021-07-16    s_63204    c_2227  20:36:35.350579  2021-07   \n",
       "679331   1_523  2022-09-28   s_274568    c_3873  01:12:01.973763  2022-09   \n",
       "\n",
       "        annee sex  birth  age_client  tranche_age  price  categ    Type_client  \n",
       "0        2022   f   1986          36  36 - 45 ans   4.18      0    particulier  \n",
       "1        2022   m   1988          34  26 - 35 ans  15.99      1    particulier  \n",
       "2        2022   f   1968          54  46 - 55 ans   7.99      0  professionnel  \n",
       "3        2021   m   2000          22  16 - 25 ans  69.99      2    particulier  \n",
       "4        2023   m   1980          42  36 - 45 ans   4.99      0    particulier  \n",
       "...       ...  ..    ...         ...          ...    ...    ...            ...  \n",
       "679327   2022   f   1951          71  66 - 75 ans  12.99      0    particulier  \n",
       "679328   2022   f   1977          45  36 - 45 ans  10.99      1    particulier  \n",
       "679329   2022   f   1988          34  26 - 35 ans  12.99      0    particulier  \n",
       "679330   2021   m   1986          36  36 - 45 ans   4.98      0    particulier  \n",
       "679331   2022   m   1995          27  26 - 35 ans  23.99      1    particulier  \n",
       "\n",
       "[679332 rows x 14 columns]"
      ]
     },
     "execution_count": 2,
     "metadata": {},
     "output_type": "execute_result"
    }
   ],
   "source": [
    "df_final = pd.read_csv(\"df_final2.csv\")\n",
    "B2C = pd.read_csv(\"B2C.csv\")\n",
    "df_final"
   ]
  },
  {
   "cell_type": "code",
   "execution_count": 3,
   "id": "ca487360-e53a-4fa2-a509-3a57c6c5c81b",
   "metadata": {},
   "outputs": [],
   "source": [
    "# On prépare les utilitaires\n",
    "def shapiro_test(x):\n",
    "    from scipy.stats import shapiro\n",
    "    x1, pval1 = shapiro(x)\n",
    "\n",
    "    print(\"=\"*100,\"\\n\")\n",
    "    print(\"Test de normalité age_client (Test de shapiro)\")\n",
    "    if pval1 < 0.05:\n",
    "        print(\"L'hypothèse nulle est rejetée \\t ==> La variable ne suit pas une loi normale\")\n",
    "    else:\n",
    "        print(\"On ne peut pas rejeter l'hypothèse nulle H0 (La variable suit une loi normale)\")\n",
    "    print()\n",
    "    print(\"=\"*100,\"\\n\")\n",
    "    \n",
    "\n",
    "def spearman_test(x,y):\n",
    "    import scipy.stats as st\n",
    "    print(\"=\"*100, \"\\n\")\n",
    "    print(\"Test d'indépendance (Test de Spearman)\\n\")\n",
    "\n",
    "    rs = st.spearmanr(x,y)[0]\n",
    "    pvalue = st.spearmanr(x,y)[1]\n",
    "\n",
    "    if abs(rs) < .10:\n",
    "        qual = 'négligeable (ou nulle)'\n",
    "    elif abs(rs) < .20:\n",
    "        qual = 'faible'\n",
    "    elif abs(rs) < .40:\n",
    "        qual = 'modérée'\n",
    "    elif abs(rs) < .60:\n",
    "        qual = 'plutôt forte'\n",
    "    elif abs(rs) < .80:\n",
    "        qual = 'forte'\n",
    "    else:\n",
    "        qual = 'très forte'\n",
    "\n",
    "    print(\"Spearman coeff =\",rs)\n",
    "    print(\"Spearman pvalue =\",pvalue)\n",
    "    print()\n",
    "\n",
    "    if rs == 0:\n",
    "        print(\"On ne peut pas rejeter l'hypothèse nulle H0 (Les variables sont indépendantes)\")\n",
    "\n",
    "    elif rs < 0 :\n",
    "        if pvalue < 0.05:\n",
    "            print(\"Les variables présentent significativement une {} corrélation négative.\".format(qual))\n",
    "        else:\n",
    "            print(\"Les variables présentent une corrélation négative {} peu significative\".format(qual))\n",
    "\n",
    "    elif rs > 0:\n",
    "        if pvalue < 0.05:\n",
    "            print(\"Les variables présentent significativement une {} corrélation positive.\".format(qual))\n",
    "        else:\n",
    "            print(\"Les variables présentent une corrélation {} positive peu significative\".format(qual)) "
   ]
  },
  {
   "cell_type": "markdown",
   "id": "9dfa5fea-5535-4c9a-aab6-dbe064853029",
   "metadata": {
    "tags": []
   },
   "source": [
    "<h2  style= \"background-color: #d4bdcf;\n",
    "                 color: white;\n",
    "            text-align: center; \n",
    "            font-family:Helvetica, Arial, verdana, sans-serif\">  Analyse des comportements clients en fonction du sexe</h2> "
   ]
  },
  {
   "cell_type": "markdown",
   "id": "c52d883d-d860-44aa-abaf-2576f19a0d3b",
   "metadata": {
    "tags": []
   },
   "source": [
    "<h2 style=\"margin: auto; \n",
    "            text-align: center; \n",
    "            font-family:Helvetica, Arial, verdana, sans-serif\"><a name=\"C2\"> Genre x Catégorie</a></h2>"
   ]
  },
  {
   "cell_type": "code",
   "execution_count": 4,
   "id": "0c7888cd",
   "metadata": {},
   "outputs": [
    {
     "data": {
      "text/html": [
       "<div>\n",
       "<style scoped>\n",
       "    .dataframe tbody tr th:only-of-type {\n",
       "        vertical-align: middle;\n",
       "    }\n",
       "\n",
       "    .dataframe tbody tr th {\n",
       "        vertical-align: top;\n",
       "    }\n",
       "\n",
       "    .dataframe thead th {\n",
       "        text-align: right;\n",
       "    }\n",
       "</style>\n",
       "<table border=\"1\" class=\"dataframe\">\n",
       "  <thead>\n",
       "    <tr style=\"text-align: right;\">\n",
       "      <th>categ</th>\n",
       "      <th>0</th>\n",
       "      <th>1</th>\n",
       "      <th>2</th>\n",
       "      <th>Total</th>\n",
       "    </tr>\n",
       "    <tr>\n",
       "      <th>sex</th>\n",
       "      <th></th>\n",
       "      <th></th>\n",
       "      <th></th>\n",
       "      <th></th>\n",
       "    </tr>\n",
       "  </thead>\n",
       "  <tbody>\n",
       "    <tr>\n",
       "      <th>f</th>\n",
       "      <td>206220</td>\n",
       "      <td>114899</td>\n",
       "      <td>17283</td>\n",
       "      <td>338402</td>\n",
       "    </tr>\n",
       "    <tr>\n",
       "      <th>m</th>\n",
       "      <td>209460</td>\n",
       "      <td>112270</td>\n",
       "      <td>19200</td>\n",
       "      <td>340930</td>\n",
       "    </tr>\n",
       "    <tr>\n",
       "      <th>Total</th>\n",
       "      <td>415680</td>\n",
       "      <td>227169</td>\n",
       "      <td>36483</td>\n",
       "      <td>679332</td>\n",
       "    </tr>\n",
       "  </tbody>\n",
       "</table>\n",
       "</div>"
      ],
      "text/plain": [
       "categ       0       1      2   Total\n",
       "sex                                 \n",
       "f      206220  114899  17283  338402\n",
       "m      209460  112270  19200  340930\n",
       "Total  415680  227169  36483  679332"
      ]
     },
     "execution_count": 4,
     "metadata": {},
     "output_type": "execute_result"
    }
   ],
   "source": [
    "# Tableau de contingence\n",
    "X, Y = \"sex\", \"categ\"\n",
    "cont = df_final[[X,Y]].pivot_table(index=X,columns=Y,aggfunc=len,margins=True,margins_name=\"Total\")\n",
    "cont"
   ]
  },
  {
   "cell_type": "code",
   "execution_count": 5,
   "id": "71cebfaa",
   "metadata": {},
   "outputs": [
    {
     "data": {
      "image/png": "[encoded data removed]",
      "text/plain": [
       "<Figure size 432x288 with 2 Axes>"
      ]
     },
     "metadata": {
      "needs_background": "light"
     },
     "output_type": "display_data"
    }
   ],
   "source": [
    "tx = cont.loc[:,[\"Total\"]]\n",
    "ty = cont.loc[[\"Total\"],:]\n",
    "n = len(df_final)\n",
    "indep = tx.dot(ty) / n\n",
    "\n",
    "c = cont.fillna(0) # On remplace les valeurs nulles par 0\n",
    "measure = (c-indep)**2/indep\n",
    "xi_n = measure.sum().sum()\n",
    "table = measure/xi_n\n",
    "sns.heatmap(table.iloc[:-1,:-1],annot=c.iloc[:-1,:-1], cmap='bwr', linecolor='k', linewidths=2)\n",
    "plt.show()"
   ]
  },
  {
   "cell_type": "markdown",
   "id": "869ae290",
   "metadata": {},
   "source": [
    "##### Interprétations\n",
    "- les femmes préfèrent respectivement les catégories : 0, 1 et 2 en dernier.\n",
    "- les hommes ont les mêmes préferences que les femmes concernant les catégories.\n",
    "\n",
    "<div class=\"alert-info\"\n",
    "     style=\"margin: auto;  \n",
    "            font-family:Helvetica, Arial, verdana, sans-serif\"> La préférence pour une catégorie de livre chez les femmes évolue de la même manière que celle chez les hommes </div>\n"
   ]
  },
  {
   "cell_type": "markdown",
   "id": "25f414c0-1a71-4787-ac68-621f6470e4b6",
   "metadata": {},
   "source": [
    "<strong> Situation : </strong> varibale qualitative vs variable qualitative <br>\n",
    "<strong> Outils :</strong> Test du Khi-deux <br> \n",
    "<strong> Prérequis khi-deux : </strong> au moins 5 éléments par cases.<br> \n",
    "<strong> Outils test de significativité :</strong> V Cramer<br> \n",
    "<strong> Rejet de H0 : </strong>  𝜒𝑐𝑎𝑙𝑐𝑢𝑙é2 > 𝜒𝑡ℎé𝑜𝑟𝑖𝑞𝑢𝑒2 | 𝑝𝑉𝑎𝑙𝑒𝑢𝑟 < 𝛼 </div>"
   ]
  },
  {
   "cell_type": "code",
   "execution_count": 6,
   "id": "a0ada23a-6331-4737-a302-c9bfdad5f413",
   "metadata": {},
   "outputs": [
    {
     "name": "stdout",
     "output_type": "stream",
     "text": [
      "====================================================================================================\n",
      "Test d'indépendance entre le genre et la catégorie (Test du khi-deux)\n",
      "\t Hypoyhèse nulle H0 : \t \t La préférence pour une catégorie de livre ne dépend pas du sexe du client.\n",
      "\t Hypoyhèse alternative H1 : \t La préférence pour une catégorie dépend du sexe du client.\n",
      "\n",
      "Le khi-deux est de :  147.00253568681114 \n",
      "\n",
      "La p-value est de : 1.1989607410166063e-32 \n",
      "\n",
      "L'hypothèse nulle est rejetée \t ==> H1: La préférence pour une catégorie dépend du sexe du client.\n",
      "==================================================================================================== \n",
      "\n",
      "Test de significativité (Coefficient V de Cramer)\n",
      "Le degré de liberté pour le coefficient de cramer est de: 1\n",
      "Le coefficient de Cramer est de : 0.0147\n",
      "==================================================================================================== \n",
      "\n"
     ]
    }
   ],
   "source": [
    "# Test d'indépendance du hi-deux :\n",
    "print(\"=\"*100)\n",
    "print(\"Test d'indépendance entre le genre et la catégorie (Test du khi-deux)\")\n",
    "print(\"\\t Hypoyhèse nulle H0 : \\t \\t La préférence pour une catégorie de livre ne dépend pas du sexe du client.\")\n",
    "print(\"\\t Hypoyhèse alternative H1 : \\t La préférence pour une catégorie dépend du sexe du client.\")\n",
    "print('')\n",
    "\n",
    "# On calcule le chi2, la pvalue, le ta\n",
    "conti = df_final[[X, Y]].pivot_table(index=X, columns=Y, aggfunc=len).fillna(0).copy()\n",
    "st_chi2, st_p, st_dof, st_exp = st.chi2_contingency(conti)\n",
    "print(\"Le khi-deux est de : \",st_chi2,\"\\n\")\n",
    "print(\"La p-value est de :\",st_p,\"\\n\")\n",
    "\n",
    "\n",
    "if st_p < 0.05:\n",
    "    print(\"L'hypothèse nulle est rejetée \\t ==> H1: La préférence pour une catégorie dépend du sexe du client.\")\n",
    "else:\n",
    "    print(\"On ne peut pas rejeter l'hypothèse nulle H0 (La préférence pour une catégorie de livre ne dépend pas du sexe du client)\")\n",
    "\n",
    "    # Coefficient de Cramer\n",
    "import researchpy\n",
    "crosstab, res = researchpy.crosstab(df_final['sex'], df_final['categ'], test='chi-square')\n",
    "print(\"=\"*100,\"\\n\")\n",
    "print(\"Test de significativité (Coefficient V de Cramer)\")\n",
    "print(\"Le degré de liberté pour le coefficient de cramer est de:\",min(conti.shape[0], conti.shape[1]) - 1)\n",
    "print(\"Le coefficient de Cramer est de :\", res.iloc[2,1])\n",
    "print(\"=\"*100,\"\\n\")"
   ]
  },
  {
   "cell_type": "markdown",
   "id": "2ebc99a6",
   "metadata": {},
   "source": [
    "<div class=\"alert-info\"\n",
    "     style=\"margin: auto;  \n",
    "            font-family:Helvetica, Arial, verdana, sans-serif\">\n",
    "<strong> Pour α = 5% : Le sexe des clients a une dépendance sur la catégorie des livres achetés. \n",
    "\n",
    "Cependant, le coefficient de Cramer est trop proche de 0, cette corrélation n'est donc pas significative. </strong> </div>"
   ]
  },
  {
   "cell_type": "markdown",
   "id": "3c596fb7",
   "metadata": {
    "tags": []
   },
   "source": [
    "<h2  style= \"background-color: #d4bdcf;\n",
    "                 color: white;\n",
    "            text-align: center; \n",
    "            font-family:Helvetica, Arial, verdana, sans-serif\">  Analyse des comportements clients en fonction de l'age</h2>"
   ]
  },
  {
   "cell_type": "code",
   "execution_count": 7,
   "id": "aaeadca7",
   "metadata": {},
   "outputs": [
    {
     "name": "stdout",
     "output_type": "stream",
     "text": [
      "All clients\n"
     ]
    },
    {
     "data": {
      "text/html": [
       "<div>\n",
       "<style scoped>\n",
       "    .dataframe tbody tr th:only-of-type {\n",
       "        vertical-align: middle;\n",
       "    }\n",
       "\n",
       "    .dataframe tbody tr th {\n",
       "        vertical-align: top;\n",
       "    }\n",
       "\n",
       "    .dataframe thead th {\n",
       "        text-align: right;\n",
       "    }\n",
       "</style>\n",
       "<table border=\"1\" class=\"dataframe\">\n",
       "  <thead>\n",
       "    <tr style=\"text-align: right;\">\n",
       "      <th></th>\n",
       "      <th>age_client</th>\n",
       "      <th>tranche_age</th>\n",
       "      <th>frequence_achat</th>\n",
       "      <th>montant_achats</th>\n",
       "      <th>panier_moyen</th>\n",
       "    </tr>\n",
       "  </thead>\n",
       "  <tbody>\n",
       "    <tr>\n",
       "      <th>0</th>\n",
       "      <td>18</td>\n",
       "      <td>16 - 25 ans</td>\n",
       "      <td>15149</td>\n",
       "      <td>609013.69</td>\n",
       "      <td>40.201577</td>\n",
       "    </tr>\n",
       "    <tr>\n",
       "      <th>1</th>\n",
       "      <td>19</td>\n",
       "      <td>16 - 25 ans</td>\n",
       "      <td>4371</td>\n",
       "      <td>178195.78</td>\n",
       "      <td>40.767737</td>\n",
       "    </tr>\n",
       "    <tr>\n",
       "      <th>2</th>\n",
       "      <td>20</td>\n",
       "      <td>16 - 25 ans</td>\n",
       "      <td>4587</td>\n",
       "      <td>184209.27</td>\n",
       "      <td>40.158986</td>\n",
       "    </tr>\n",
       "    <tr>\n",
       "      <th>3</th>\n",
       "      <td>21</td>\n",
       "      <td>16 - 25 ans</td>\n",
       "      <td>4252</td>\n",
       "      <td>178497.70</td>\n",
       "      <td>41.979704</td>\n",
       "    </tr>\n",
       "    <tr>\n",
       "      <th>4</th>\n",
       "      <td>22</td>\n",
       "      <td>16 - 25 ans</td>\n",
       "      <td>4415</td>\n",
       "      <td>165029.26</td>\n",
       "      <td>37.379221</td>\n",
       "    </tr>\n",
       "  </tbody>\n",
       "</table>\n",
       "</div>"
      ],
      "text/plain": [
       "   age_client  tranche_age  frequence_achat  montant_achats  panier_moyen\n",
       "0          18  16 - 25 ans            15149       609013.69     40.201577\n",
       "1          19  16 - 25 ans             4371       178195.78     40.767737\n",
       "2          20  16 - 25 ans             4587       184209.27     40.158986\n",
       "3          21  16 - 25 ans             4252       178497.70     41.979704\n",
       "4          22  16 - 25 ans             4415       165029.26     37.379221"
      ]
     },
     "metadata": {},
     "output_type": "display_data"
    },
    {
     "name": "stdout",
     "output_type": "stream",
     "text": [
      "B2C clients\n"
     ]
    },
    {
     "data": {
      "text/html": [
       "<div>\n",
       "<style scoped>\n",
       "    .dataframe tbody tr th:only-of-type {\n",
       "        vertical-align: middle;\n",
       "    }\n",
       "\n",
       "    .dataframe tbody tr th {\n",
       "        vertical-align: top;\n",
       "    }\n",
       "\n",
       "    .dataframe thead th {\n",
       "        text-align: right;\n",
       "    }\n",
       "</style>\n",
       "<table border=\"1\" class=\"dataframe\">\n",
       "  <thead>\n",
       "    <tr style=\"text-align: right;\">\n",
       "      <th></th>\n",
       "      <th>age_client</th>\n",
       "      <th>tranche_age</th>\n",
       "      <th>frequence_achat</th>\n",
       "      <th>montant_achats</th>\n",
       "      <th>panier_moyen</th>\n",
       "    </tr>\n",
       "  </thead>\n",
       "  <tbody>\n",
       "    <tr>\n",
       "      <th>0</th>\n",
       "      <td>18</td>\n",
       "      <td>16 - 25 ans</td>\n",
       "      <td>15149</td>\n",
       "      <td>609013.69</td>\n",
       "      <td>40.201577</td>\n",
       "    </tr>\n",
       "    <tr>\n",
       "      <th>1</th>\n",
       "      <td>19</td>\n",
       "      <td>16 - 25 ans</td>\n",
       "      <td>4371</td>\n",
       "      <td>178195.78</td>\n",
       "      <td>40.767737</td>\n",
       "    </tr>\n",
       "    <tr>\n",
       "      <th>2</th>\n",
       "      <td>20</td>\n",
       "      <td>16 - 25 ans</td>\n",
       "      <td>4587</td>\n",
       "      <td>184209.27</td>\n",
       "      <td>40.158986</td>\n",
       "    </tr>\n",
       "    <tr>\n",
       "      <th>3</th>\n",
       "      <td>21</td>\n",
       "      <td>16 - 25 ans</td>\n",
       "      <td>4252</td>\n",
       "      <td>178497.70</td>\n",
       "      <td>41.979704</td>\n",
       "    </tr>\n",
       "    <tr>\n",
       "      <th>4</th>\n",
       "      <td>22</td>\n",
       "      <td>16 - 25 ans</td>\n",
       "      <td>4415</td>\n",
       "      <td>165029.26</td>\n",
       "      <td>37.379221</td>\n",
       "    </tr>\n",
       "  </tbody>\n",
       "</table>\n",
       "</div>"
      ],
      "text/plain": [
       "   age_client  tranche_age  frequence_achat  montant_achats  panier_moyen\n",
       "0          18  16 - 25 ans            15149       609013.69     40.201577\n",
       "1          19  16 - 25 ans             4371       178195.78     40.767737\n",
       "2          20  16 - 25 ans             4587       184209.27     40.158986\n",
       "3          21  16 - 25 ans             4252       178497.70     41.979704\n",
       "4          22  16 - 25 ans             4415       165029.26     37.379221"
      ]
     },
     "metadata": {},
     "output_type": "display_data"
    }
   ],
   "source": [
    "# On calcule les variables frequence achat, panier moyen et montant achats (Tous les clients).\n",
    "age_client = df_final.groupby([\"age_client\", \"tranche_age\",]).agg({\"id_prod\":\"count\",\"price\":\"sum\"}).reset_index()\n",
    "age_client.rename(columns={\"price\":\"montant_achats\", \"id_prod\":\"frequence_achat\"}, inplace=True)\n",
    "age_client[\"panier_moyen\"] = age_client[\"montant_achats\"]/ age_client[\"frequence_achat\"]\n",
    "print(\"All clients\")\n",
    "display(age_client.head())\n",
    "\n",
    "# On calcule les variables frequence achat, panier moyen et montant achats pour les clients particuliers\n",
    "age_client_B2C = df_final[df_final[\"Type_client\"]==\"particulier\"].groupby([\"age_client\", \"tranche_age\"]).agg({\"id_prod\":\"count\",\"price\":\"sum\"}).reset_index()\n",
    "age_client_B2C.rename(columns={\"price\":\"montant_achats\", \"id_prod\":\"frequence_achat\"}, inplace=True)\n",
    "age_client_B2C[\"panier_moyen\"] = age_client_B2C[\"montant_achats\"]/ age_client_B2C[\"frequence_achat\"]\n",
    "print(\"B2C clients\")\n",
    "display(age_client_B2C.head())"
   ]
  },
  {
   "cell_type": "code",
   "execution_count": 8,
   "id": "2e11d899-e84c-44f3-adc6-1c1f1dbe6e5b",
   "metadata": {},
   "outputs": [
    {
     "name": "stdout",
     "output_type": "stream",
     "text": [
      "==================================================================================================== \n",
      "\n",
      "All clients\n"
     ]
    },
    {
     "data": {
      "image/png": "[encoded data removed]",
      "text/plain": [
       "<Figure size 1296x720 with 4 Axes>"
      ]
     },
     "metadata": {
      "needs_background": "light"
     },
     "output_type": "display_data"
    },
    {
     "name": "stdout",
     "output_type": "stream",
     "text": [
      "==================================================================================================== \n",
      "\n",
      "B2C clients\n"
     ]
    },
    {
     "data": {
      "image/png": "[encoded data removed]",
      "text/plain": [
       "<Figure size 1296x720 with 4 Axes>"
      ]
     },
     "metadata": {
      "needs_background": "light"
     },
     "output_type": "display_data"
    }
   ],
   "source": [
    "print(\"=\"*100,\"\\n\")\n",
    "print(\"All clients\")\n",
    "plt.figure(figsize=(18,10))\n",
    "plt.subplot(2,2,1)\n",
    "mask = np.triu(np.ones_like(age_client.corr(), dtype=bool))\n",
    "sns.heatmap(age_client.corr(), mask=mask, vmin=-1, vmax=1, annot=True, cmap='bwr', linecolor='k', linewidths=2)\n",
    "plt.title('Pearson matrix', fontsize = 15, fontweight='bold')\n",
    "# age vs frequence achat\n",
    "plt.subplot(2,2,2)\n",
    "mask = np.triu(np.ones_like(age_client.corr(), dtype=bool))\n",
    "sns.heatmap(age_client.corr(method=\"spearman\"), mask=mask, vmin=-1, vmax=1, annot=True, cmap='bwr', linecolor='k', linewidths=2)\n",
    "plt.title('Spearman matrix', fontsize = 15, fontweight='bold')\n",
    "plt.show()\n",
    "print(\"=\"*100,\"\\n\")\n",
    "print(\"B2C clients\")\n",
    "plt.figure(figsize=(18,10))\n",
    "plt.subplot(2,2,1)\n",
    "mask = np.triu(np.ones_like(age_client_B2C.corr(), dtype=bool))\n",
    "sns.heatmap(age_client_B2C.corr(), mask=mask, vmin=-1, vmax=1, annot=True, cmap='bwr', linecolor='k', linewidths=2)\n",
    "plt.title('Pearson matrix', fontsize = 15, fontweight='bold')\n",
    "# age vs frequence achat\n",
    "plt.subplot(2,2,2)\n",
    "mask = np.triu(np.ones_like(age_client_B2C.corr(), dtype=bool))\n",
    "sns.heatmap(age_client_B2C.corr(method=\"spearman\"), mask=mask, vmin=-1, vmax=1, annot=True, cmap='bwr', linecolor='k', linewidths=2)\n",
    "plt.title('Spearman matrix', fontsize = 15, fontweight='bold')\n",
    "plt.show()"
   ]
  },
  {
   "cell_type": "markdown",
   "id": "c643d9e2",
   "metadata": {
    "tags": []
   },
   "source": [
    "<h2 style=\"margin: auto; \n",
    "            text-align: center; \n",
    "            font-family:Helvetica, Arial, verdana, sans-serif\"><a name=\"C3\">Age vs Fréquence achat</a></h2> "
   ]
  },
  {
   "cell_type": "code",
   "execution_count": 9,
   "id": "6e2817fe-bc0b-49a4-a421-fd677ea3c5df",
   "metadata": {},
   "outputs": [
    {
     "data": {
      "image/png": "[encoded data removed]",
      "text/plain": [
       "<Figure size 1440x864 with 2 Axes>"
      ]
     },
     "metadata": {
      "needs_background": "light"
     },
     "output_type": "display_data"
    }
   ],
   "source": [
    "# age vs frequence achat\n",
    "#age_client[\"clusters_1\"]= pd.cut(age_client[\"age_client\"], bins=[15,42,100], labels=[\"Moins de 35 ans\",\"Plus de 35 ans\"])\n",
    "plt.figure(figsize=(20,12))\n",
    "\n",
    "plt.subplot(2,2,1)\n",
    "sns.scatterplot(data=age_client, x= \"age_client\",y = \"frequence_achat\")\n",
    "plt.title(\"Age vs frequence achat\",fontsize = 12, fontweight='bold')\n",
    "\n",
    "plt.subplot(2,2,2)\n",
    "sns.scatterplot(data=age_client_B2C, x= \"age_client\",y = \"frequence_achat\")\n",
    "plt.title(\"Age vs frequence achat (clients B2C)\",fontsize = 12, fontweight='bold')\n",
    "plt.show()"
   ]
  },
  {
   "cell_type": "code",
   "execution_count": 10,
   "id": "38636703",
   "metadata": {},
   "outputs": [
    {
     "data": {
      "image/png": "[encoded data removed]",
      "text/plain": [
       "<Figure size 1440x864 with 2 Axes>"
      ]
     },
     "metadata": {
      "needs_background": "light"
     },
     "output_type": "display_data"
    }
   ],
   "source": [
    "plt.figure(figsize=(20,12))\n",
    "plt.subplot(2,2,1)\n",
    "line_kws = {'color' : 'r',}\n",
    "#slope, intercept, r_value, p_value, std_err = stats.linregress(age_client['age_client'],age_client[\"frequence_achat\"])\n",
    "sns.regplot(data=age_client_B2C[age_client_B2C[\"age_client\"] < 30], x= \"age_client\",y = \"frequence_achat\", line_kws =line_kws, robust=True)\n",
    "plt.title(\"Age vs frequence achat (Client B2C moins de 30 ans)\",fontsize = 12, fontweight='bold')\n",
    "#plt.title('Age vs frequence achat : y={0:.3f}x+{1:.1f}'.format(slope,intercept), fontsize = 12, fontweight='bold')\n",
    "\n",
    "plt.subplot(2,2,2)\n",
    "#slope, intercept, r_value, p_value, std_err = st.linregress(age_client['age_client'],age_client[\"frequence_achat\"])\n",
    "sns.regplot(data=age_client_B2C[age_client_B2C[\"age_client\"] > 30], x= \"age_client\",y = \"frequence_achat\", line_kws =line_kws )\n",
    "plt.title(\"Age vs frequence achat (Clients B2C plus de 30 ans)\",fontsize = 12, fontweight='bold')\n",
    "#plt.title('Age vs frequence achat : y={0:.3f}x+{1:.1f}'.format(slope,intercept), fontsize = 12, fontweight='bold')\n",
    "plt.show()"
   ]
  },
  {
   "cell_type": "markdown",
   "id": "71d3adaf-e8a5-485f-8311-4f91fb9da2c4",
   "metadata": {},
   "source": [
    "<strong>Interprétations </strong>\n",
    "\n",
    "On observe <strong> une relation linéaire légèrement positive de 18 à 30 ans </strong> puis <strong> négative à partir de 30ans. </strong>.\n",
    "La relation est plus étalée et plus dense du coté négatif.\n",
    "\n",
    "<div class=\"alert-info\"\n",
    "     style=\"margin: auto;  \n",
    "            font-family:Helvetica, Arial, verdana, sans-serif\"> D'un point de vue général, la fréquence d'achat diminue avec l'age.</div> <br>\n",
    "<div class=\"alert-warning\"\n",
    "     style=\"margin: auto;  \n",
    "            font-family:Helvetica, Arial, verdana, sans-serif\"> La fréquence d'achat au niveau des 18 ans est très élévée.</div> <br>\n",
    "\n",
    "<strong> Situation : </strong> varibale qualitative vs variable qualitative <br>\n",
    "<strong> Outils :</strong> Pearson, Spearman, Kendall et Student<br> \n",
    "<strong> Prérequis Pearson : </strong> distriutions normales et lien linéaire <br> \n",
    "<strong> Prérequis Spearman : </strong>  liason monotone (robuste aux outliers, fonctionne sur les distributions non linéaires) <br>\n",
    "<strong> Outils test de significativité:</strong> Student, pvalue<br> \n",
    "<strong> Prérequis Student : </strong> distriutions normales et égalités des variances<br> \n",
    "<strong> Rejet de H0 : </strong> 𝑝𝑉𝑎𝑙𝑒𝑢𝑟 < 𝛼 </div>"
   ]
  },
  {
   "cell_type": "code",
   "execution_count": 11,
   "id": "d865163b-46d7-42fa-be59-d378a246bd4c",
   "metadata": {},
   "outputs": [
    {
     "name": "stdout",
     "output_type": "stream",
     "text": [
      "==================================================================================================== \n",
      "\n",
      "Test de normalité age_client (Test de shapiro)\n",
      "L'hypothèse nulle est rejetée \t ==> La variable ne suit pas une loi normale\n",
      "\n",
      "==================================================================================================== \n",
      "\n",
      "==================================================================================================== \n",
      "\n",
      "Test de normalité age_client (Test de shapiro)\n",
      "L'hypothèse nulle est rejetée \t ==> La variable ne suit pas une loi normale\n",
      "\n",
      "==================================================================================================== \n",
      "\n"
     ]
    }
   ],
   "source": [
    "# Test de normalité age_client et frequence achat (Test de shapiro):\n",
    "shapiro_test(age_client_B2C[\"frequence_achat\"])\n",
    "shapiro_test(age_client_B2C[\"age_client\"])"
   ]
  },
  {
   "cell_type": "markdown",
   "id": "8ae54ba0-96ff-404b-b89a-84d4d9690300",
   "metadata": {},
   "source": [
    "<div class=\"alert-warning\"\n",
    "     style=\"margin: auto;  \n",
    "            font-family:Helvetica, Arial, verdana, sans-serif\"> La fréquence d'achat et l'age des clients ne suivent pas de loi normale.</div> <br>"
   ]
  },
  {
   "cell_type": "code",
   "execution_count": 12,
   "id": "f3738d52-0e49-41d4-932e-d4e992d22f3f",
   "metadata": {},
   "outputs": [
    {
     "name": "stdout",
     "output_type": "stream",
     "text": [
      "==================================================================================================== \n",
      "\n",
      "Test d'indépendance (Test de Spearman)\n",
      "\n",
      "Spearman coeff = -0.6738482570061518\n",
      "Spearman pvalue = 2.5391854434818517e-11\n",
      "\n",
      "Les variables présentent significativement une forte corrélation négative.\n"
     ]
    }
   ],
   "source": [
    "# Test de corrélation (Test de Spearman):\n",
    "spearman_test(age_client_B2C[\"age_client\"],age_client_B2C[\"frequence_achat\"])"
   ]
  },
  {
   "cell_type": "markdown",
   "id": "173b5210-ef6d-4d1b-9714-7f4ea00c0c2f",
   "metadata": {},
   "source": [
    "<div class=\"alert-info\"\n",
    "     style=\"margin: auto;  \n",
    "            font-family:Helvetica, Arial, verdana, sans-serif\">\n",
    "L'age et la fréquence d'achat des clients sont négativement corrélés, ce qui veut dire dans notre cas : <strong> D'un point de vue général, plus le client est agé et moins fréquement il achète. </strong> </div>."
   ]
  },
  {
   "cell_type": "markdown",
   "id": "f778a9a6-4d92-46be-8a65-0bc0d1d1eaee",
   "metadata": {},
   "source": [
    "<h2 style=\"margin: auto; \n",
    "            text-align: center; \n",
    "            font-family:Helvetica, Arial, verdana, sans-serif\"><a name=\"C4\">Age vs Montant total des achats</a></h2> "
   ]
  },
  {
   "cell_type": "code",
   "execution_count": 13,
   "id": "10edcd7d-7ce3-4343-bd5e-5583f89ac898",
   "metadata": {},
   "outputs": [
    {
     "data": {
      "image/png": "[encoded data removed]",
      "text/plain": [
       "<Figure size 1440x864 with 2 Axes>"
      ]
     },
     "metadata": {
      "needs_background": "light"
     },
     "output_type": "display_data"
    }
   ],
   "source": [
    "\n",
    "#age_client[\"clusters_1\"]= pd.cut(age_client[\"age_client\"], bins=[15,42,100], labels=[\"Moins de 35 ans\",\"Plus de 35 ans\"])\n",
    "plt.figure(figsize=(20,12))\n",
    "\n",
    "plt.subplot(2,2,1)\n",
    "sns.scatterplot(data=age_client, x= \"age_client\",y = \"montant_achats\")\n",
    "plt.title(\"Age vs Montant total des achats\",fontsize = 12, fontweight='bold')\n",
    "\n",
    "plt.subplot(2,2,2)\n",
    "sns.scatterplot(data=age_client_B2C, x= \"age_client\",y = \"montant_achats\")\n",
    "plt.title(\"Age vs Montant total des achats (clients B2C)\",fontsize = 12, fontweight='bold')\n",
    "plt.show()"
   ]
  },
  {
   "cell_type": "code",
   "execution_count": 14,
   "id": "25fdfec6-ed88-4625-9e9a-a6c723f1b0c4",
   "metadata": {},
   "outputs": [
    {
     "data": {
      "image/png": "[encoded data removed]",
      "text/plain": [
       "<Figure size 1440x864 with 2 Axes>"
      ]
     },
     "metadata": {
      "needs_background": "light"
     },
     "output_type": "display_data"
    }
   ],
   "source": [
    "plt.figure(figsize=(20,12))\n",
    "plt.subplot(2,2,1)\n",
    "line_kws = {'color' : 'r',}\n",
    "#slope, intercept, r_value, p_value, std_err = stats.linregress(age_client['age_client'],age_client[\"frequence_achat\"])\n",
    "sns.regplot(data=age_client_B2C[age_client_B2C[\"age_client\"] < 42], x= \"age_client\",y = \"montant_achats\", line_kws =line_kws, robust=True)\n",
    "plt.title(\"Age vs chiffre d'affaire (Client B2C moins de 42 ans)\",fontsize = 12, fontweight='bold')\n",
    "#plt.title('Age vs frequence achat : y={0:.3f}x+{1:.1f}'.format(slope,intercept), fontsize = 12, fontweight='bold')\n",
    "\n",
    "plt.subplot(2,2,2)\n",
    "#slope, intercept, r_value, p_value, std_err = st.linregress(age_client['age_client'],age_client[\"frequence_achat\"])\n",
    "sns.regplot(data=age_client_B2C[age_client_B2C[\"age_client\"] > 42], x= \"age_client\",y = \"montant_achats\", line_kws =line_kws )\n",
    "plt.title(\"Age vs chiffre d'affaire (Clients B2C plus de 42 ans)\",fontsize = 12, fontweight='bold')\n",
    "#plt.title('Age vs frequence achat : y={0:.3f}x+{1:.1f}'.format(slope,intercept), fontsize = 12, fontweight='bold')\n",
    "plt.show()"
   ]
  },
  {
   "cell_type": "markdown",
   "id": "91a0c580",
   "metadata": {},
   "source": [
    "\n",
    "<strong>Interprétations </strong>\n",
    "\n",
    "On observe <strong> une relation linéaire positive de 18 à 42 ans </strong> puis <strong> négative à partir de 42ans. </strong>. La distribution est beaucoup plus dense et plus étalée à droite.\n",
    "\n",
    "- Le montant total des achats augmente avec l'âge jusqu'à 42ans et diminue à partir dde 42 ans. \n",
    "\n",
    "- Les 18 ans présentent un chiffre d'affaire très élévé.\n",
    "\n",
    "<strong> Situation : </strong> varibale qualitative vs variable qualitative <br>\n",
    "<strong> Outils :</strong> Person, Spearman ou Kendall<br> \n",
    "<strong> Prérequis Pearson : </strong> distriution normale et lien linéaire <br> \n",
    "<strong> Prérequis Spearman : </strong>  liason monotone (robuste aux outliers, fonctionne sur les distributions non linéaires) <br>\n",
    "<strong> Rejet de H0 : </strong> 𝑝𝑉𝑎𝑙𝑒𝑢𝑟 < 𝛼 </div>\n",
    "<br>\n",
    "\n",
    "<p><strong> Quelques hypothèses</strong></p>\n",
    "<ul>\n",
    "<li> Il y a un âge minimum requis pour acheter sur le site et des acheteurs qui trichent sur leur âge (juste le minimum)</li>\n",
    "<li> Des étudiants pratiquent des achats saisoniers (rentrées scolaires) et les sont souvent assez elevés.</li></ul>"
   ]
  },
  {
   "cell_type": "code",
   "execution_count": 15,
   "id": "5e7523ed-152e-4133-aace-b4ea67021fcc",
   "metadata": {},
   "outputs": [
    {
     "name": "stdout",
     "output_type": "stream",
     "text": [
      "==================================================================================================== \n",
      "\n",
      "Test de normalité age_client (Test de shapiro)\n",
      "L'hypothèse nulle est rejetée \t ==> La variable ne suit pas une loi normale\n",
      "\n",
      "==================================================================================================== \n",
      "\n"
     ]
    }
   ],
   "source": [
    "# Test de normalité montant des achats (Test de shapiro):\n",
    "shapiro_test(age_client_B2C[\"montant_achats\"])"
   ]
  },
  {
   "cell_type": "markdown",
   "id": "06ea65f1-cf01-40d3-a433-370570cf2dc4",
   "metadata": {},
   "source": [
    "<div class=\"alert-warning\"\n",
    "     style=\"margin: auto;  \n",
    "            font-family:Helvetica, Arial, verdana, sans-serif\"> Le montant total des achats ne suit pas de loi normale => Test de spearman.</div> <br>"
   ]
  },
  {
   "cell_type": "code",
   "execution_count": 16,
   "id": "87679fe9-c3ad-4094-9e4f-7b2a17678dd9",
   "metadata": {},
   "outputs": [
    {
     "name": "stdout",
     "output_type": "stream",
     "text": [
      "==================================================================================================== \n",
      "\n",
      "Test d'indépendance (Test de Spearman)\n",
      "\n",
      "Spearman coeff = -0.8736842105263158\n",
      "Spearman pvalue = 7.352708223159905e-25\n",
      "\n",
      "Les variables présentent significativement une très forte corrélation négative.\n"
     ]
    }
   ],
   "source": [
    "# Test de corrélation (Test de Spearman):\n",
    "spearman_test(age_client_B2C[\"age_client\"],age_client_B2C[\"montant_achats\"])"
   ]
  },
  {
   "cell_type": "markdown",
   "id": "bbf5f7c5-3aa8-44a6-8784-a45bea78e33b",
   "metadata": {},
   "source": [
    "<div class=\"alert-info\"\n",
    "     style=\"margin: auto;  \n",
    "            font-family:Helvetica, Arial, verdana, sans-serif\">\n",
    "L'age et la fréquence d'achat des clients sont négativement corrélés, ce qui veut dire dans notre cas : <strong> D'un point de vue général, plus le client est agé moins il achète. </strong> </div>."
   ]
  },
  {
   "cell_type": "markdown",
   "id": "ba22f042-4859-480f-8f66-1e10b0250efd",
   "metadata": {},
   "source": [
    "<h2 style=\"margin: auto; \n",
    "            text-align: center; \n",
    "            font-family:Helvetica, Arial, verdana, sans-serif\"><a name=\"C5\">Age vs Panier moyen</a></h2> "
   ]
  },
  {
   "cell_type": "code",
   "execution_count": 17,
   "id": "5a489a98",
   "metadata": {},
   "outputs": [
    {
     "data": {
      "image/png": "[encoded data removed]",
      "text/plain": [
       "<Figure size 1440x864 with 2 Axes>"
      ]
     },
     "metadata": {
      "needs_background": "light"
     },
     "output_type": "display_data"
    }
   ],
   "source": [
    "#age_client[\"clusters_1\"]= pd.cut(age_client[\"age_client\"], bins=[15,42,100], labels=[\"Moins de 35 ans\",\"Plus de 35 ans\"])\n",
    "plt.figure(figsize=(20,12))\n",
    "plt.subplot(2,2,1)\n",
    "age_client[\"clusters_2\"]= pd.cut(age_client[\"age_client\"], bins=[15,30,50,100], labels=[\"Moins de 30 ans\",\"30 à 50 ans\",\"Plus de 50 ans\"])\n",
    "sns.scatterplot(data=age_client, x=\"age_client\", y=\"panier_moyen\", hue=\"clusters_2\")\n",
    "plt.title(\"Age vs Panier moyen (Tous les clients)\",fontsize = 12, fontweight='bold')\n",
    "\n",
    "plt.subplot(2,2,2)\n",
    "age_client_B2C[\"clusters_2\"]= pd.cut(age_client_B2C[\"age_client\"], bins=[15,30,50,100], labels=[\"Moins de 30 ans\",\"30 à 50 ans\",\"Plus de 50 ans\"])\n",
    "sns.scatterplot(data=age_client_B2C, x=\"age_client\", y=\"panier_moyen\", hue=\"clusters_2\")\n",
    "plt.title(\"Age vs Panier moyen (Clients B2C)\",fontsize = 12, fontweight='bold')\n",
    "\n",
    "plt.show()"
   ]
  },
  {
   "cell_type": "markdown",
   "id": "793d96ae",
   "metadata": {},
   "source": [
    "#####  Observations:\n",
    "\n",
    "- Les moins de 30 ans : panier moyen élévé, plus de 35 euros\n",
    "- Les 30 - 50 ans : panier moyen faible, moins de 15 euros\n",
    "- Les plus de 50 ans : panier moyen compris entre 15 et 20 euros"
   ]
  },
  {
   "cell_type": "code",
   "execution_count": 18,
   "id": "159887cc-f325-44c7-92be-b94cd8245fc1",
   "metadata": {},
   "outputs": [
    {
     "name": "stdout",
     "output_type": "stream",
     "text": [
      "==================================================================================================== \n",
      "\n",
      "Test de normalité age_client (Test de shapiro)\n",
      "L'hypothèse nulle est rejetée \t ==> La variable ne suit pas une loi normale\n",
      "\n",
      "==================================================================================================== \n",
      "\n"
     ]
    }
   ],
   "source": [
    "# Test de normalité montant des achats (Test de shapiro):\n",
    "shapiro_test(age_client[\"panier_moyen\"])"
   ]
  },
  {
   "cell_type": "markdown",
   "id": "3ce3fc1a-2a3e-44b2-97bb-141713cca011",
   "metadata": {},
   "source": [
    "<div class=\"alert-warning\"\n",
    "     style=\"margin: auto;  \n",
    "            font-family:Helvetica, Arial, verdana, sans-serif\"> Le panier moyen ne suit pas de loi normale => Test de spearman.</div> <br>"
   ]
  },
  {
   "cell_type": "code",
   "execution_count": 19,
   "id": "d89d38fb-2329-43d4-b940-f61414e5c820",
   "metadata": {},
   "outputs": [
    {
     "name": "stdout",
     "output_type": "stream",
     "text": [
      "==================================================================================================== \n",
      "\n",
      "Test d'indépendance (Test de Spearman)\n",
      "\n",
      "Spearman coeff = -0.08440191387559809\n",
      "Spearman pvalue = 0.46851387450200865\n",
      "\n",
      "Les variables présentent une corrélation négative négligeable (ou nulle) peu significative\n"
     ]
    }
   ],
   "source": [
    "# Test de corrélation (Test de Spearman):\n",
    "spearman_test(age_client_B2C[\"age_client\"],age_client_B2C[\"panier_moyen\"])"
   ]
  },
  {
   "cell_type": "markdown",
   "id": "f842f3ba-11aa-4221-97a7-0bd16ec65280",
   "metadata": {},
   "source": [
    "<div class=\"alert-info\"\n",
    "     style=\"margin: auto;  \n",
    "            font-family:Helvetica, Arial, verdana, sans-serif\">\n",
    "L'age et le panier moyen sont négativement corrélés. Cependant, cette relation n'est pas représentative."
   ]
  },
  {
   "cell_type": "markdown",
   "id": "35b27584",
   "metadata": {
    "tags": []
   },
   "source": [
    "<h2 style=\"margin: auto; \n",
    "            text-align: center; \n",
    "            font-family:Helvetica, Arial, verdana, sans-serif\"><a name=\"C6\">Age vs Catégorie des livres achetés</a></h2> "
   ]
  },
  {
   "cell_type": "code",
   "execution_count": 20,
   "id": "41d24a8f-1b7f-4ebd-b1de-925758ed7459",
   "metadata": {},
   "outputs": [
    {
     "data": {
      "image/png": "[encoded data removed]",
      "text/plain": [
       "<Figure size 648x288 with 1 Axes>"
      ]
     },
     "metadata": {
      "needs_background": "light"
     },
     "output_type": "display_data"
    }
   ],
   "source": [
    "plt.figure(figsize=(9,4))\n",
    "palette = ['g','b','r']\n",
    "meanprops={ \"marker\" : \"s\", \"markerfacecolor\" : \"w\"}\n",
    "sns.boxplot(data=B2C, y='categ', x='age_client', orient='h', showfliers=False, showmeans=True, palette=palette, meanprops=meanprops)\n",
    "plt.title('Distribution des ages de clients par catégorie de livres achetés');"
   ]
  },
  {
   "cell_type": "markdown",
   "id": "5a5c089c-e898-41a6-8d04-5c10187ebf29",
   "metadata": {},
   "source": [
    "<li><strong> Catégorie 0 : </strong> Clients de 18 à 65 ans avec un age moyen de 45ans (approximatif)</li>\n",
    "<li><strong> Catégorie 1 : </strong> Tout public avec un age moyen de 48ans (approximatif)</li>\n",
    "<li><strong> Catégorie 2 : </strong> Clients de 18 à 40 ans avec un age moyen de 27 ans (approximatif)</li>"
   ]
  },
  {
   "cell_type": "code",
   "execution_count": 21,
   "id": "61371325",
   "metadata": {},
   "outputs": [
    {
     "data": {
      "text/html": [
       "<div>\n",
       "<style scoped>\n",
       "    .dataframe tbody tr th:only-of-type {\n",
       "        vertical-align: middle;\n",
       "    }\n",
       "\n",
       "    .dataframe tbody tr th {\n",
       "        vertical-align: top;\n",
       "    }\n",
       "\n",
       "    .dataframe thead th {\n",
       "        text-align: right;\n",
       "    }\n",
       "</style>\n",
       "<table border=\"1\" class=\"dataframe\">\n",
       "  <thead>\n",
       "    <tr style=\"text-align: right;\">\n",
       "      <th></th>\n",
       "      <th>Source</th>\n",
       "      <th>SS</th>\n",
       "      <th>DF</th>\n",
       "      <th>MS</th>\n",
       "      <th>F</th>\n",
       "      <th>p-unc</th>\n",
       "      <th>np2</th>\n",
       "    </tr>\n",
       "  </thead>\n",
       "  <tbody>\n",
       "    <tr>\n",
       "      <th>0</th>\n",
       "      <td>categ</td>\n",
       "      <td>1.489749e+07</td>\n",
       "      <td>2</td>\n",
       "      <td>7.448743e+06</td>\n",
       "      <td>45883.780589</td>\n",
       "      <td>0.0</td>\n",
       "      <td>0.119009</td>\n",
       "    </tr>\n",
       "    <tr>\n",
       "      <th>1</th>\n",
       "      <td>Within</td>\n",
       "      <td>1.102818e+08</td>\n",
       "      <td>679329</td>\n",
       "      <td>1.623393e+02</td>\n",
       "      <td>NaN</td>\n",
       "      <td>NaN</td>\n",
       "      <td>NaN</td>\n",
       "    </tr>\n",
       "  </tbody>\n",
       "</table>\n",
       "</div>"
      ],
      "text/plain": [
       "   Source            SS      DF            MS             F  p-unc       np2\n",
       "0   categ  1.489749e+07       2  7.448743e+06  45883.780589    0.0  0.119009\n",
       "1  Within  1.102818e+08  679329  1.623393e+02           NaN    NaN       NaN"
      ]
     },
     "execution_count": 21,
     "metadata": {},
     "output_type": "execute_result"
    }
   ],
   "source": [
    "#Test Anova\n",
    "import pingouin as pg\n",
    "aov = pg.anova(dv='age_client', between='categ', data=df_final, detailed=True)\n",
    "aov"
   ]
  },
  {
   "cell_type": "code",
   "execution_count": 22,
   "id": "11c2483c",
   "metadata": {},
   "outputs": [
    {
     "name": "stdout",
     "output_type": "stream",
     "text": [
      "Test ANOVA entre Age et catégories (catégories 0 et 1)\n",
      "\t Hypoyhèse nulle H0 : \t \t Pas d'effet d'age sur les catégories (mêmes moyennes).\n",
      "\t Hypoyhèse alternative H1 : \t Au moins une catégorie a une moyenne d'age significativement différente.\n",
      "\n",
      "Table ANOVA :\n"
     ]
    },
    {
     "data": {
      "text/html": [
       "<div>\n",
       "<style scoped>\n",
       "    .dataframe tbody tr th:only-of-type {\n",
       "        vertical-align: middle;\n",
       "    }\n",
       "\n",
       "    .dataframe tbody tr th {\n",
       "        vertical-align: top;\n",
       "    }\n",
       "\n",
       "    .dataframe thead th {\n",
       "        text-align: right;\n",
       "    }\n",
       "</style>\n",
       "<table border=\"1\" class=\"dataframe\">\n",
       "  <thead>\n",
       "    <tr style=\"text-align: right;\">\n",
       "      <th></th>\n",
       "      <th>sum_sq</th>\n",
       "      <th>df</th>\n",
       "      <th>F</th>\n",
       "      <th>PR(&gt;F)</th>\n",
       "    </tr>\n",
       "  </thead>\n",
       "  <tbody>\n",
       "    <tr>\n",
       "      <th>categ</th>\n",
       "      <td>1.043392e+04</td>\n",
       "      <td>1.0</td>\n",
       "      <td>53.421532</td>\n",
       "      <td>2.897295e-13</td>\n",
       "    </tr>\n",
       "    <tr>\n",
       "      <th>Residual</th>\n",
       "      <td>1.952739e+06</td>\n",
       "      <td>9998.0</td>\n",
       "      <td>NaN</td>\n",
       "      <td>NaN</td>\n",
       "    </tr>\n",
       "  </tbody>\n",
       "</table>\n",
       "</div>"
      ],
      "text/plain": [
       "                sum_sq      df          F        PR(>F)\n",
       "categ     1.043392e+04     1.0  53.421532  2.897295e-13\n",
       "Residual  1.952739e+06  9998.0        NaN           NaN"
      ]
     },
     "metadata": {},
     "output_type": "display_data"
    }
   ],
   "source": [
    "sample = B2C.sample(10000)\n",
    "# Test ANOVA\n",
    "import statsmodels.api as sm\n",
    "import statsmodels.formula.api as smf\n",
    "from statsmodels.formula.api import ols\n",
    "\n",
    "\n",
    "sample = B2C.sample(10000)\n",
    "model = smf.ols('age_client ~ categ', data=sample).fit()\n",
    "anova_table = sm.stats.anova_lm(model, typ=2)\n",
    "print('Test ANOVA entre Age et catégories (catégories 0 et 1)')\n",
    "print(\"\\t Hypoyhèse nulle H0 : \\t \\t Pas d'effet d'age sur les catégories (mêmes moyennes).\")\n",
    "print(\"\\t Hypoyhèse alternative H1 : \\t Au moins une catégorie a une moyenne d'age significativement différente.\")\n",
    "print('')\n",
    "print('Table ANOVA :')\n",
    "display(anova_table)"
   ]
  },
  {
   "cell_type": "code",
   "execution_count": 23,
   "id": "38837446",
   "metadata": {},
   "outputs": [
    {
     "name": "stdout",
     "output_type": "stream",
     "text": [
      "p-value : 2.897295135725548e-13\n",
      "L'hypothèse nulle est rejetée \t ==> H1: Au moins une catégorie a une moyenne d'age significativement différente.\n"
     ]
    }
   ],
   "source": [
    "p_value = anova_table['PR(>F)'][0]\n",
    "print('p-value :', p_value)\n",
    "\n",
    "if p_value < 0.05:\n",
    "    print(\"L'hypothèse nulle est rejetée \\t ==> H1: Au moins une catégorie a une moyenne d'age significativement différente.\")\n",
    "else:\n",
    "    print(\"On ne peut pas rejeter l'hypothèse nulle H0 (Pas d'effet d'age sur les catégories).\")"
   ]
  },
  {
   "cell_type": "markdown",
   "id": "d5563458-17a0-45ea-ac5a-88972ff954a8",
   "metadata": {},
   "source": [
    "<div class=\"alert-info\"\n",
    "     style=\"margin: auto;  \n",
    "            font-family:Helvetica, Arial, verdana, sans-serif\">\n",
    "Les moyennes d'age des catégories sont significativement différentes.</div>."
   ]
  }
 ],
 "metadata": {
  "kernelspec": {
   "display_name": "Python 3 (ipykernel)",
   "language": "python",
   "name": "python3"
  },
  "language_info": {
   "codemirror_mode": {
    "name": "ipython",
    "version": 3
   },
   "file_extension": ".py",
   "mimetype": "text/x-python",
   "name": "python",
   "nbconvert_exporter": "python",
   "pygments_lexer": "ipython3",
   "version": "3.9.7"
  }
 },
 "nbformat": 4,
 "nbformat_minor": 5
}
